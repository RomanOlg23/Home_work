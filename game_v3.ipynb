{
 "cells": [
  {
   "attachments": {},
   "cell_type": "markdown",
   "metadata": {},
   "source": [
    "# Игра угадай число"
   ]
  },
  {
   "cell_type": "code",
   "execution_count": null,
   "metadata": {},
   "outputs": [],
   "source": [
    "from game_v3 import *"
   ]
  },
  {
   "attachments": {},
   "cell_type": "markdown",
   "metadata": {},
   "source": [
    "## Угадываем рандомно менее чем за 2 помыток"
   ]
  },
  {
   "cell_type": "code",
   "execution_count": 6,
   "metadata": {},
   "outputs": [
    {
     "name": "stdout",
     "output_type": "stream",
     "text": [
      "Число 44 найдено за 6 попыток\n",
      "Число 73 найдено за 6 попыток\n",
      "Число 78 найдено за 5 попыток\n",
      "Число 10 найдено за 5 попыток\n",
      "Число 1 найдено за 7 попыток\n",
      "Число 21 найдено за 7 попыток\n",
      "Число 82 найдено за 6 попыток\n",
      "Число 27 найдено за 7 попыток\n",
      "Число 93 найдено за 4 попыток\n",
      "Число 13 найдено за 3 попыток\n",
      "Число 46 найдено за 5 попыток\n",
      "Число 38 найдено за 6 попыток\n",
      "Число 49 найдено за 7 попыток\n",
      "Число 56 найдено за 4 попыток\n",
      "Число 55 найдено за 7 попыток\n",
      "Число 12 найдено за 7 попыток\n",
      "Число 26 найдено за 6 попыток\n",
      "Число 67 найдено за 7 попыток\n",
      "Число 28 найдено за 5 попыток\n",
      "Число 94 найдено за 6 попыток\n",
      "Число 31 найдено за 4 попыток\n",
      "Число 42 найдено за 7 попыток\n",
      "Число 16 найдено за 5 попыток\n",
      "Число 33 найдено за 7 попыток\n",
      "Число 60 найдено за 6 попыток\n",
      "Число 27 найдено за 7 попыток\n",
      "Число 36 найдено за 7 попыток\n",
      "Число 68 найдено за 4 попыток\n",
      "Число 34 найдено за 5 попыток\n",
      "Число 62 найдено за 3 попыток\n",
      "Число 40 найдено за 5 попыток\n",
      "Число 49 найдено за 7 попыток\n",
      "Число 60 найдено за 6 попыток\n",
      "Число 45 найдено за 7 попыток\n",
      "Число 50 найдено за 1 попыток\n",
      "Число 58 найдено за 7 попыток\n",
      "Число 93 найдено за 4 попыток\n",
      "Число 33 найдено за 7 попыток\n",
      "Число 75 найдено за 2 попыток\n",
      "Число 8 найдено за 6 попыток\n",
      "Число 5 найдено за 6 попыток\n",
      "Число 79 найдено за 6 попыток\n"
     ]
    },
    {
     "ename": "KeyboardInterrupt",
     "evalue": "",
     "output_type": "error",
     "traceback": [
      "\u001b[0;31m---------------------------------------------------------------------------\u001b[0m",
      "\u001b[0;31mKeyboardInterrupt\u001b[0m                         Traceback (most recent call last)",
      "Cell \u001b[0;32mIn[6], line 1\u001b[0m\n\u001b[0;32m----> 1\u001b[0m score_game(game_score_v3)\n",
      "File \u001b[0;32m~/Documents/Home_work/game_v3.py:49\u001b[0m, in \u001b[0;36mscore_game\u001b[0;34m(random_predict)\u001b[0m\n\u001b[1;32m     46\u001b[0m random_array \u001b[39m=\u001b[39m np\u001b[39m.\u001b[39mrandom\u001b[39m.\u001b[39mrandint(\u001b[39m1\u001b[39m, \u001b[39m101\u001b[39m, size\u001b[39m=\u001b[39m(\u001b[39m10000\u001b[39m))  \u001b[39m# загадали список чисел\u001b[39;00m\n\u001b[1;32m     48\u001b[0m \u001b[39mfor\u001b[39;00m number \u001b[39min\u001b[39;00m random_array:\n\u001b[0;32m---> 49\u001b[0m     count_ls\u001b[39m.\u001b[39mappend(random_predict(number))\n\u001b[1;32m     51\u001b[0m score \u001b[39m=\u001b[39m \u001b[39mint\u001b[39m(np\u001b[39m.\u001b[39mmean(count_ls))\n\u001b[1;32m     52\u001b[0m \u001b[39mprint\u001b[39m(\u001b[39mf\u001b[39m\u001b[39m\"\u001b[39m\u001b[39mВаш алгоритм угадывает число в среднем за: \u001b[39m\u001b[39m{\u001b[39;00mscore\u001b[39m}\u001b[39;00m\u001b[39m попыток\u001b[39m\u001b[39m\"\u001b[39m)\n",
      "File \u001b[0;32m~/Documents/Home_work/game_v3.py:23\u001b[0m, in \u001b[0;36mgame_score_v3\u001b[0;34m(number)\u001b[0m\n\u001b[1;32m     21\u001b[0m aver_num \u001b[39m=\u001b[39m (begin \u001b[39m+\u001b[39m finish)\u001b[39m/\u001b[39m\u001b[39m/\u001b[39m\u001b[39m2\u001b[39m \u001b[39m# чтобы сократить кол-во попыток, делим диапазон на 2\u001b[39;00m\n\u001b[1;32m     22\u001b[0m \u001b[39mif\u001b[39;00m aver_num \u001b[39m==\u001b[39m number:\n\u001b[0;32m---> 23\u001b[0m     \u001b[39mprint\u001b[39m (\u001b[39mf\u001b[39m\u001b[39m'\u001b[39m\u001b[39mЧисло \u001b[39m\u001b[39m{\u001b[39;00maver_num\u001b[39m}\u001b[39;00m\u001b[39m найдено за \u001b[39m\u001b[39m{\u001b[39;00mcount\u001b[39m}\u001b[39;00m\u001b[39m попыток\u001b[39m\u001b[39m'\u001b[39m)\n\u001b[1;32m     24\u001b[0m     \u001b[39mbreak\u001b[39;00m \u001b[39m# выйти, если число найдено\u001b[39;00m\n\u001b[1;32m     25\u001b[0m \u001b[39melif\u001b[39;00m aver_num \u001b[39m>\u001b[39m number:\n",
      "\u001b[0;31mKeyboardInterrupt\u001b[0m: "
     ]
    }
   ],
   "source": [
    "score_game(game_score_v3)"
   ]
  }
 ],
 "metadata": {
  "kernelspec": {
   "display_name": "Python 3",
   "language": "python",
   "name": "python3"
  },
  "language_info": {
   "codemirror_mode": {
    "name": "ipython",
    "version": 3
   },
   "file_extension": ".py",
   "mimetype": "text/x-python",
   "name": "python",
   "nbconvert_exporter": "python",
   "pygments_lexer": "ipython3",
   "version": "3.9.10"
  },
  "orig_nbformat": 4
 },
 "nbformat": 4,
 "nbformat_minor": 2
}
